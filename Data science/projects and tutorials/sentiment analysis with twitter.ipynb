{
 "cells": [
  {
   "cell_type": "code",
   "execution_count": 1,
   "metadata": {
    "collapsed": false
   },
   "outputs": [],
   "source": [
    "#https://www.youtube.com/watch?v=o_OZdbCzHUA"
   ]
  },
  {
   "cell_type": "code",
   "execution_count": 16,
   "metadata": {
    "collapsed": false
   },
   "outputs": [
    {
     "data": {
      "text/plain": [
       "0.6166666666666667"
      ]
     },
     "execution_count": 16,
     "metadata": {},
     "output_type": "execute_result"
    }
   ],
   "source": [
    "wiki = TextBlob(\"I'm pretty awesome and amazing\") # NLP to understand the feelings.\n",
    "wiki.sentiment.polarity"
   ]
  },
  {
   "cell_type": "code",
   "execution_count": 29,
   "metadata": {
    "collapsed": false
   },
   "outputs": [
    {
     "name": "stdout",
     "output_type": "stream",
     "text": [
      "https://t.co/BhvZLPtFF6\n",
      "Sentiment(polarity=0.0, subjectivity=0.0)\n",
      "@pea6065 @gunnwilliams @ManMountain78R2 @realDonaldTrump Funny how a worshipper of proven traitor trump calls Obama… https://t.co/8CBeKF4HS3\n",
      "Sentiment(polarity=0.25, subjectivity=1.0)\n",
      "RT @phranqueigh: I feel like every time a Trump employee quits, Oompa Loompas should appear &amp; sing a song to teach us about the perils of g…\n",
      "Sentiment(polarity=0.0, subjectivity=0.0)\n",
      "RT @RealCoastal: This comes out of Betsy #Devo's Brother - Erik #Prince and his company #Blackwater - both working for #Trump -... https://…\n",
      "Sentiment(polarity=0.0, subjectivity=0.0)\n",
      "RT @TopherSpiro: 1: ALERT: Trump admin is using fake #'s to flip moderates— \n",
      "saying people can be moved from Medicaid to Cruz plans without…\n",
      "Sentiment(polarity=-0.5, subjectivity=1.0)\n",
      "RT @octonion: Why does Trump think health insurance costs $12/year? Because Gerber advertises life insurance for babies on Fox News for abo…\n",
      "Sentiment(polarity=0.0, subjectivity=0.0)\n",
      "RT @BillKristol: His tweets today are a reminder of the evident fact that while Donald Trump has been president for six months, he is unfit…\n",
      "Sentiment(polarity=0.25, subjectivity=0.25)\n",
      "RT @TopherSpiro: Trump is visiting Capito in WV to threaten her. Will she remember that she doesn't want to hurt people? https://t.co/UuMEq…\n",
      "Sentiment(polarity=0.0, subjectivity=0.0)\n",
      "RT @BillKristol: They warned me that if I didn't vote for Trump, we'd have a White House filled with creepily corporatist Goldman Sachs Cli…\n",
      "Sentiment(polarity=-0.033333333333333326, subjectivity=0.6333333333333333)\n",
      "RT @mkraju: Talk about a Friday night news dump: Sessions, Kushner, Don Trump Jr, Manafort, new health care bill problems ... what else?\n",
      "Sentiment(polarity=0.13636363636363635, subjectivity=0.45454545454545453)\n",
      "RT @Autarkh: @cathdelaney63 @Castantine @Impeach_D_Trump @realDonaldTrump Crucial thing here is that a President is NOT above the law &amp; has…\n",
      "Sentiment(polarity=0.0, subjectivity=0.55)\n",
      "RT @NextGenAmerica: You can’t make this sh** up. https://t.co/0dxGlAlmFE\n",
      "Sentiment(polarity=0.0, subjectivity=0.0)\n",
      "RT @perfectsliders: FBI investigating Trump during the election. Susan Rice’s unmasking requests were not routine.Obama locked unmasking do…\n",
      "Sentiment(polarity=0.0, subjectivity=0.0)\n",
      "@JoeNBC You got this wrong TOO \"headline reader\"!!! Hate makes you blind.\n",
      "https://t.co/kJq8cuIpHG\n",
      "Sentiment(polarity=-0.7588541666666666, subjectivity=0.8222222222222223)\n",
      "RT @c40cities: For decades, Mayors have been on the front lines of our nation’s effort to stem the tide of climate change: https://t.co/N87…\n",
      "Sentiment(polarity=0.0, subjectivity=0.0)\n"
     ]
    }
   ],
   "source": [
    "import tweepy\n",
    "from textblob import TextBlob\n",
    "file = open ('tweets.csv','w')\n",
    "consumer_key=\"nADWqEtEdqJ9MpHWEH1w50Jc7\"\n",
    "consumer_secret=\"4nOM69sjf5js8so41CIeNNSUKo0bNVTqgp2vQvbJ9PedabXmQO\"\n",
    "access_token=\"3429429593-N4XdvesIuDlBbBMm5PrJJGHmLTUJFidP1V7goJG\"\n",
    "access_token_secret=\"6OcJiGwhy4ehU43vJLBRlY3B2yFMxGdbpZSNBXyFb3tEi\"\n",
    "\n",
    "auth = tweepy.OAuthHandler(consumer_key,consumer_secret)\n",
    "auth.set_access_token(access_token,access_token_secret)\n",
    "\n",
    "api=tweepy.API(auth)\n",
    "\n",
    "public_tweets=api.search('Trump')\n",
    "\n",
    "for tweet in public_tweets:\n",
    "    print(tweet.text)\n",
    "    analysis=TextBlob(tweet.text)\n",
    "    print(analysis.sentiment)\n",
    "    file.write(tweet.text)\n",
    "    file.write('\\n')\n",
    "file.close()"
   ]
  },
  {
   "cell_type": "code",
   "execution_count": null,
   "metadata": {
    "collapsed": true
   },
   "outputs": [],
   "source": []
  }
 ],
 "metadata": {
  "kernelspec": {
   "display_name": "Python 3",
   "language": "python",
   "name": "python3"
  },
  "language_info": {
   "codemirror_mode": {
    "name": "ipython",
    "version": 3
   },
   "file_extension": ".py",
   "mimetype": "text/x-python",
   "name": "python",
   "nbconvert_exporter": "python",
   "pygments_lexer": "ipython3",
   "version": "3.6.0"
  }
 },
 "nbformat": 4,
 "nbformat_minor": 2
}
