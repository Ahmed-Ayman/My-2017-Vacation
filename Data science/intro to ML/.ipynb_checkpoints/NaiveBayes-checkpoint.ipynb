{
 "cells": [
  {
   "cell_type": "code",
   "execution_count": 7,
   "metadata": {
    "collapsed": false
   },
   "outputs": [
    {
     "name": "stderr",
     "output_type": "stream",
     "text": [
      "/home/ahmed-ayman/anaconda3/lib/python3.6/site-packages/quandl/get_table.py:34: UserWarning: To request more pages, please set paginate=true in your         quandl.get_table() call. For more information see our documentation:         https://github.com/quandl/quandl-python/blob/master/FOR_ANALYSTS.md#things-to-note\n",
      "  warnings.warn(Message.WARN_PAGE_LIMIT_EXCEEDED, UserWarning)\n"
     ]
    },
    {
     "data": {
      "text/html": [
       "<div>\n",
       "<table border=\"1\" class=\"dataframe\">\n",
       "  <thead>\n",
       "    <tr style=\"text-align: right;\">\n",
       "      <th></th>\n",
       "      <th>adj_open</th>\n",
       "      <th>adj_high</th>\n",
       "      <th>adj_low</th>\n",
       "      <th>adj_close</th>\n",
       "      <th>adj_volume</th>\n",
       "    </tr>\n",
       "    <tr>\n",
       "      <th>None</th>\n",
       "      <th></th>\n",
       "      <th></th>\n",
       "      <th></th>\n",
       "      <th></th>\n",
       "      <th></th>\n",
       "    </tr>\n",
       "  </thead>\n",
       "  <tbody>\n",
       "    <tr>\n",
       "      <th>0</th>\n",
       "      <td>31.105117</td>\n",
       "      <td>34.181447</td>\n",
       "      <td>27.345157</td>\n",
       "      <td>30.079673</td>\n",
       "      <td>44739900.0</td>\n",
       "    </tr>\n",
       "    <tr>\n",
       "      <th>1</th>\n",
       "      <td>29.355027</td>\n",
       "      <td>29.396044</td>\n",
       "      <td>27.215268</td>\n",
       "      <td>27.604936</td>\n",
       "      <td>10897100.0</td>\n",
       "    </tr>\n",
       "    <tr>\n",
       "      <th>2</th>\n",
       "      <td>28.240711</td>\n",
       "      <td>30.079673</td>\n",
       "      <td>27.386175</td>\n",
       "      <td>30.079673</td>\n",
       "      <td>4705200.0</td>\n",
       "    </tr>\n",
       "    <tr>\n",
       "      <th>3</th>\n",
       "      <td>29.054230</td>\n",
       "      <td>29.826730</td>\n",
       "      <td>27.516065</td>\n",
       "      <td>27.516065</td>\n",
       "      <td>4274400.0</td>\n",
       "    </tr>\n",
       "    <tr>\n",
       "      <th>4</th>\n",
       "      <td>27.434029</td>\n",
       "      <td>28.671398</td>\n",
       "      <td>27.345157</td>\n",
       "      <td>28.069804</td>\n",
       "      <td>3464400.0</td>\n",
       "    </tr>\n",
       "  </tbody>\n",
       "</table>\n",
       "</div>"
      ],
      "text/plain": [
       "       adj_open   adj_high    adj_low  adj_close  adj_volume\n",
       "None                                                        \n",
       "0     31.105117  34.181447  27.345157  30.079673  44739900.0\n",
       "1     29.355027  29.396044  27.215268  27.604936  10897100.0\n",
       "2     28.240711  30.079673  27.386175  30.079673   4705200.0\n",
       "3     29.054230  29.826730  27.516065  27.516065   4274400.0\n",
       "4     27.434029  28.671398  27.345157  28.069804   3464400.0"
      ]
     },
     "execution_count": 7,
     "metadata": {},
     "output_type": "execute_result"
    }
   ],
   "source": []
  },
  {
   "cell_type": "code",
   "execution_count": null,
   "metadata": {
    "collapsed": true
   },
   "outputs": [],
   "source": []
  }
 ],
 "metadata": {
  "kernelspec": {
   "display_name": "Python 3",
   "language": "python",
   "name": "python3"
  },
  "language_info": {
   "codemirror_mode": {
    "name": "ipython",
    "version": 3
   },
   "file_extension": ".py",
   "mimetype": "text/x-python",
   "name": "python",
   "nbconvert_exporter": "python",
   "pygments_lexer": "ipython3",
   "version": "3.6.0"
  }
 },
 "nbformat": 4,
 "nbformat_minor": 2
}
